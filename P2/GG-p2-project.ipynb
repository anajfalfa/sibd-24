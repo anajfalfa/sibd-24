{
 "cells": [
  {
   "cell_type": "markdown",
   "id": "0",
   "metadata": {},
   "source": [
    "# GG P2 Project"
   ]
  },
  {
   "cell_type": "markdown",
   "id": "1",
   "metadata": {},
   "source": [
    "* istXXXXXXX1 FirstName1 LastName1 (30%)\n",
    "  \n",
    "* istXXXXXXX2 FirstName2 LastName2 (33%)\n",
    "  \n",
    "* istXXXXXXX3 FirstName3 LastName3 (37%)"
   ]
  },
  {
   "cell_type": "markdown",
   "id": "2",
   "metadata": {},
   "source": [
    "Prof. FirstName LastName (and Prof. FirstName LastName)\n",
    "\n",
    "Lab Shift number: PBXX"
   ]
  },
  {
   "cell_type": "markdown",
   "id": "3",
   "metadata": {},
   "source": [
    "## PART I – Original Database Schema (SQLite)"
   ]
  },
  {
   "cell_type": "markdown",
   "id": "4",
   "metadata": {},
   "source": [
    "##### E-R Diagram"
   ]
  },
  {
   "cell_type": "markdown",
   "id": "5",
   "metadata": {},
   "source": [
    "![E-R Diagram](soccer.drawio.png \"E-R Diagram\")"
   ]
  },
  {
   "cell_type": "markdown",
   "id": "6",
   "metadata": {},
   "source": [
    "#### 1. The Original Database Schema\n",
    "\n",
    "Study the E-R Diagram above corresponding to the original database schema.\n"
   ]
  },
  {
   "cell_type": "markdown",
   "id": "7",
   "metadata": {},
   "source": [
    "Lets download the SQLite database backup/dump!"
   ]
  },
  {
   "cell_type": "code",
   "execution_count": null,
   "id": "8",
   "metadata": {},
   "outputs": [],
   "source": [
    "!wget -c https://github.com/bdist/is-labs-data/raw/refs/heads/main/soccer/database.sqlite?download= -O /home/jovyan/data/database.sqlite"
   ]
  },
  {
   "cell_type": "markdown",
   "id": "9",
   "metadata": {},
   "source": [
    "#### 2. SQL Queries\n",
    "\n",
    "Consider the E-R Diagram above and write SQL queries for each of the following information needs."
   ]
  },
  {
   "cell_type": "code",
   "execution_count": null,
   "id": "10",
   "metadata": {
    "tags": []
   },
   "outputs": [],
   "source": [
    "%reload_ext sql\n",
    "%config SqlMagic.displaycon = 0\n",
    "%config SqlMagic.displaylimit = 100\n",
    "%config SqlMagic.feedback = 0\n",
    "%sql sqlite:////home/jovyan/data/database.sqlite --alias sqlite"
   ]
  },
  {
   "cell_type": "markdown",
   "id": "11",
   "metadata": {},
   "source": [
    "1. What is the maximum number of goals recorded in a match? Output a single number."
   ]
  },
  {
   "cell_type": "code",
   "execution_count": null,
   "id": "12",
   "metadata": {
    "vscode": {
     "languageId": "sql"
    }
   },
   "outputs": [],
   "source": [
    "%%sql sqlite\n"
   ]
  },
  {
   "cell_type": "markdown",
   "id": "13",
   "metadata": {},
   "source": [
    "2. List each league name and its number of teams sorted from high to low."
   ]
  },
  {
   "cell_type": "code",
   "execution_count": null,
   "id": "14",
   "metadata": {
    "vscode": {
     "languageId": "sql"
    }
   },
   "outputs": [],
   "source": [
    "%%sql sqlite\n"
   ]
  },
  {
   "cell_type": "markdown",
   "id": "15",
   "metadata": {},
   "source": [
    "3. Who are the GoalKeepers (GK) that have played all the away games for their team? Output the `team_long_name` and `player_name` (assuming `match.away_player_1` is the goalkeeper column)."
   ]
  },
  {
   "cell_type": "code",
   "execution_count": null,
   "id": "16",
   "metadata": {
    "vscode": {
     "languageId": "sql"
    }
   },
   "outputs": [],
   "source": [
    "%%sql sqlite\n"
   ]
  },
  {
   "cell_type": "markdown",
   "id": "17",
   "metadata": {},
   "source": [
    "## PART II - New Database Schema (PostgreSQL)"
   ]
  },
  {
   "cell_type": "markdown",
   "id": "18",
   "metadata": {},
   "source": [
    "#### 0. Migrate the SQLite Database to PostgreSQL"
   ]
  },
  {
   "cell_type": "markdown",
   "id": "19",
   "metadata": {},
   "source": [
    "Instead of writing tedious migration code ourselves, we will be using the `pgloader` CLI tool to get started quickly. The migration task is setup using a `command-file`. Lets see inside that file."
   ]
  },
  {
   "cell_type": "code",
   "execution_count": null,
   "id": "20",
   "metadata": {},
   "outputs": [],
   "source": [
    "!cat ./command-file.txt"
   ]
  },
  {
   "cell_type": "markdown",
   "id": "21",
   "metadata": {},
   "source": [
    "The `pgloader` tool will take care of everything automatically including the foreign key constraints (which SQLite does not enforce by default). Lets run it."
   ]
  },
  {
   "cell_type": "code",
   "execution_count": null,
   "id": "22",
   "metadata": {},
   "outputs": [],
   "source": [
    "!pgloader ./command-file.txt"
   ]
  },
  {
   "cell_type": "markdown",
   "id": "23",
   "metadata": {},
   "source": [
    "Lets take a closer look into the `match` table."
   ]
  },
  {
   "cell_type": "code",
   "execution_count": null,
   "id": "24",
   "metadata": {},
   "outputs": [],
   "source": [
    "%load_ext sql\n",
    "%config SqlMagic.displaycon = 0\n",
    "%config SqlMagic.displaylimit = 100\n",
    "%config SqlMagic.feedback = 0\n",
    "%sql postgresql+psycopg://db:db@postgres/db --alias psql"
   ]
  },
  {
   "cell_type": "code",
   "execution_count": null,
   "id": "25",
   "metadata": {
    "vscode": {
     "languageId": "sql"
    }
   },
   "outputs": [],
   "source": [
    "%sqlcmd columns -t match"
   ]
  },
  {
   "cell_type": "markdown",
   "id": "26",
   "metadata": {},
   "source": [
    "Notice how `pgloader` even assigned the safest most-compatible data types for each column so that no data is lost in the migration."
   ]
  },
  {
   "cell_type": "markdown",
   "id": "27",
   "metadata": {},
   "source": [
    "##### 0.1. Introducing a limitation of the original database schema"
   ]
  },
  {
   "cell_type": "markdown",
   "id": "28",
   "metadata": {},
   "source": [
    "The `match` table still does not look good to us... Can you try to write a SQL query for the following information need?\n",
    "\n",
    "1. List all the teams that 'Cristiano Ronaldo' has played for (regardless of starting position)"
   ]
  },
  {
   "cell_type": "code",
   "execution_count": null,
   "id": "29",
   "metadata": {
    "vscode": {
     "languageId": "sql"
    }
   },
   "outputs": [],
   "source": [
    "%%sql psql\n",
    "-- WILL NOT BE EVALUATED - We will be implementing a solution for this problem in the next section."
   ]
  },
  {
   "cell_type": "markdown",
   "id": "30",
   "metadata": {},
   "source": [
    "#### 1. Functions, Stored Procedures, and Triggers\n",
    "\n",
    "Provide the SQL instructions corresponding to each of the following tasks:"
   ]
  },
  {
   "cell_type": "markdown",
   "id": "31",
   "metadata": {},
   "source": [
    "1. Create a new `match_player` table to store the data for the starting players (11) for each match (currently stored in the columns `match.home_player_DD` and `match.away_player_DD`). We are going to copy the data contained in the table `match` to `match_player` but we want to use a new column for the player position `position`."
   ]
  },
  {
   "cell_type": "code",
   "execution_count": null,
   "id": "32",
   "metadata": {
    "vscode": {
     "languageId": "sql"
    }
   },
   "outputs": [],
   "source": [
    "%%sql psql\n",
    "DROP TABLE IF EXISTS match_player;\n",
    "\n",
    "CREATE TABLE\n",
    "  match_player ();"
   ]
  },
  {
   "cell_type": "markdown",
   "id": "33",
   "metadata": {},
   "source": [
    "2. Populate the new table `match_player` using the data contained in the table `match` using a function or stored procedure."
   ]
  },
  {
   "cell_type": "code",
   "execution_count": null,
   "id": "34",
   "metadata": {
    "vscode": {
     "languageId": "sql"
    }
   },
   "outputs": [],
   "source": [
    "%%sql psql\n",
    "DELETE FROM match_player;\n",
    "\n",
    "CREATE OR REPLACE PROCEDURE populate_match_player()\n",
    "LANGUAGE plpgsql\n",
    "AS $$\n",
    "BEGIN\n",
    "\n",
    "END;\n",
    "$$;\n",
    "\n",
    "CALL populate_match_player();"
   ]
  },
  {
   "cell_type": "markdown",
   "id": "35",
   "metadata": {},
   "source": [
    "#### 2. SQL Queries\n",
    "\n",
    "Consider the new `match_player` table above and write SQL queries for each of the following information needs."
   ]
  },
  {
   "cell_type": "markdown",
   "id": "36",
   "metadata": {},
   "source": [
    "1. List all the teams that 'Cristiano Ronaldo' has played for (regardless of starting position)"
   ]
  },
  {
   "cell_type": "code",
   "execution_count": null,
   "id": "37",
   "metadata": {
    "vscode": {
     "languageId": "sql"
    }
   },
   "outputs": [],
   "source": [
    "%%sql psql\n"
   ]
  },
  {
   "cell_type": "markdown",
   "id": "38",
   "metadata": {},
   "source": [
    "2. Who are the players that have played all the away games for their team? Output the `team_long_name` and `player_name`."
   ]
  },
  {
   "cell_type": "code",
   "execution_count": null,
   "id": "39",
   "metadata": {
    "vscode": {
     "languageId": "sql"
    }
   },
   "outputs": [],
   "source": [
    "%%sql psql\n"
   ]
  },
  {
   "cell_type": "markdown",
   "id": "40",
   "metadata": {},
   "source": [
    "3. What is the match with the highest number of goals? Output `team_long_name` for both home and away teams, and the total number of goals for each team."
   ]
  },
  {
   "cell_type": "code",
   "execution_count": null,
   "id": "41",
   "metadata": {
    "vscode": {
     "languageId": "sql"
    }
   },
   "outputs": [],
   "source": [
    "%%sql psql\n"
   ]
  },
  {
   "cell_type": "markdown",
   "id": "42",
   "metadata": {},
   "source": [
    "#### 3. Query Optimization\n",
    "\n",
    "Consider the new `player_attributes` table that contains the largest amount of rows."
   ]
  },
  {
   "cell_type": "markdown",
   "id": "43",
   "metadata": {},
   "source": [
    "1. Create the most appropriate index(es) for the following query: "
   ]
  },
  {
   "cell_type": "code",
   "execution_count": null,
   "id": "44",
   "metadata": {
    "vscode": {
     "languageId": "sql"
    }
   },
   "outputs": [],
   "source": [
    "%%sql psql\n",
    "CREATE INDEX"
   ]
  },
  {
   "cell_type": "code",
   "execution_count": null,
   "id": "45",
   "metadata": {
    "vscode": {
     "languageId": "sql"
    }
   },
   "outputs": [],
   "source": [
    "%%sql psql\n",
    "SELECT\n",
    "  MAX(overall_rating)\n",
    "FROM\n",
    "  player_attributes\n",
    "WHERE\n",
    "  attacking_work_rate = 'high';"
   ]
  },
  {
   "cell_type": "markdown",
   "id": "46",
   "metadata": {},
   "source": [
    "2. Create the most appropriate index(es) for the following query: "
   ]
  },
  {
   "cell_type": "code",
   "execution_count": null,
   "id": "47",
   "metadata": {
    "vscode": {
     "languageId": "sql"
    }
   },
   "outputs": [],
   "source": [
    "%%sql psql\n",
    "CREATE INDEX"
   ]
  },
  {
   "cell_type": "code",
   "execution_count": null,
   "id": "48",
   "metadata": {
    "vscode": {
     "languageId": "sql"
    }
   },
   "outputs": [],
   "source": [
    "%%sql psql\n",
    "SELECT\n",
    "  player_api_id,\n",
    "  preferred_foot,\n",
    "  MIN(crossing),\n",
    "  MIN(potential)\n",
    "FROM\n",
    "  player_attributes\n",
    "GROUP BY\n",
    "  player_api_id,\n",
    "  preferred_foot\n",
    "HAVING\n",
    "  MIN(crossing) = 80\n",
    "  AND MIN(potential) >= 90"
   ]
  },
  {
   "cell_type": "markdown",
   "id": "49",
   "metadata": {},
   "source": [
    "## PART III - The Web App (Flask + PostgreSQL)"
   ]
  },
  {
   "cell_type": "markdown",
   "id": "50",
   "metadata": {},
   "source": [
    "#### 1. SQL View"
   ]
  },
  {
   "cell_type": "markdown",
   "id": "51",
   "metadata": {},
   "source": [
    "1. Create a SQL View that lists the player names sorted by the most recent `player_attributes.date` first."
   ]
  },
  {
   "cell_type": "code",
   "execution_count": null,
   "id": "52",
   "metadata": {
    "vscode": {
     "languageId": "sql"
    }
   },
   "outputs": [],
   "source": [
    "%%sql psql\n",
    "CREATE OR REPLACE VIEW\n",
    "  players_index_view"
   ]
  },
  {
   "cell_type": "markdown",
   "id": "53",
   "metadata": {},
   "source": [
    "2. Create the most appropriate index(es) for the SQL view you just created. (Note: PostgreSQL does not have support for materialized views)"
   ]
  },
  {
   "cell_type": "code",
   "execution_count": null,
   "id": "54",
   "metadata": {
    "vscode": {
     "languageId": "sql"
    }
   },
   "outputs": [],
   "source": [
    "%%sql psql\n",
    "CREATE INDEX"
   ]
  },
  {
   "cell_type": "markdown",
   "id": "55",
   "metadata": {},
   "source": [
    "3. Please test your view using the following query."
   ]
  },
  {
   "cell_type": "code",
   "execution_count": null,
   "id": "56",
   "metadata": {
    "vscode": {
     "languageId": "sql"
    }
   },
   "outputs": [],
   "source": [
    "%%sql psql\n",
    "SELECT\n",
    "  *\n",
    "FROM\n",
    "  players_index_view\n",
    "LIMIT\n",
    "  20;"
   ]
  },
  {
   "cell_type": "markdown",
   "id": "57",
   "metadata": {},
   "source": [
    "#### 2. Create the players_index page on the Web App\n",
    "\n",
    "Requirements:\n",
    "- Should use the SQL View declared above\n",
    "- Do not list more than 20 players."
   ]
  },
  {
   "cell_type": "markdown",
   "id": "58",
   "metadata": {},
   "source": [
    "1. Copy your players_index function from app.py to the cell below"
   ]
  },
  {
   "cell_type": "markdown",
   "id": "59",
   "metadata": {},
   "source": [
    "```python\n",
    "@app.route(\"/\", methods=(\"GET\",))\n",
    "@app.route(\"/accounts\", methods=(\"GET\",))\n",
    "@limiter.limit(\"1 per second\")\n",
    "def account_index():\n",
    "    \"\"\"Show all the accounts, most recent first.\"\"\"\n",
    "\n",
    "    with pool.connection() as conn:\n",
    "        with conn.cursor() as cur:\n",
    "            accounts = cur.execute(\n",
    "                \"\"\"\n",
    "                SELECT account_number, branch_name, balance\n",
    "                FROM account\n",
    "                ORDER BY account_number DESC;\n",
    "                \"\"\",\n",
    "                {},\n",
    "            ).fetchall()\n",
    "            log.debug(f\"Found {cur.rowcount} rows.\")\n",
    "\n",
    "    return render_template(\"account/index.html\", accounts=accounts)\n",
    "```"
   ]
  },
  {
   "cell_type": "markdown",
   "id": "60",
   "metadata": {},
   "source": [
    "2. Copy your final HTML template for this view onto the cell below"
   ]
  },
  {
   "cell_type": "markdown",
   "id": "61",
   "metadata": {},
   "source": [
    "```html\n",
    "{% extends \"base.html\" %}\n",
    "{% block header %}\n",
    "    <h1>\n",
    "        {% block title %}\n",
    "            Accounts\n",
    "        {% endblock title %}\n",
    "    </h1>\n",
    "{% endblock header %}\n",
    "{% block content %}\n",
    "    {% for account in accounts %}\n",
    "        <article class=\"post\">\n",
    "            <header>\n",
    "                <div>\n",
    "                    <h1>{{ account['account_number'] }}</h1>\n",
    "                    <div class=\"about\">in {{ account['branch_name'] }}</div>\n",
    "                </div>\n",
    "                <a class=\"action\"\n",
    "                   href=\"{{ url_for('account_update_view', account_number=account['account_number']) }}\">Edit</a>\n",
    "            </header>\n",
    "            <p class=\"body\">€ {{ account['balance'] }}</p>\n",
    "        </article>\n",
    "        {% if not loop.last %}<hr />{% endif %}\n",
    "    {% endfor %}\n",
    "{% endblock content %}\n",
    "```"
   ]
  },
  {
   "cell_type": "markdown",
   "id": "62",
   "metadata": {},
   "source": [
    "#### 3. Create the player_update_view and player_update_save routes on the Web App\n",
    "\n",
    "Requirements:\n",
    "\n",
    "- The app.route for player_update_view should take a player_api_id and show a nice editable HTML form.\n",
    "             \n",
    "- The app.route for player_update_save should be called on form submission and insert the new data into player_attributes. \n",
    "\n",
    "- On success, should redirect to the players_index\n",
    "\n",
    "- On failure, should raise an appropriate exception with a error message"
   ]
  },
  {
   "cell_type": "markdown",
   "id": "63",
   "metadata": {},
   "source": [
    "1. Copy your player_update_view function from app.py to the cell below"
   ]
  },
  {
   "cell_type": "markdown",
   "id": "64",
   "metadata": {},
   "source": []
  },
  {
   "cell_type": "markdown",
   "id": "65",
   "metadata": {},
   "source": [
    "2. Copy your final HTML template for this view onto the cell below"
   ]
  },
  {
   "cell_type": "markdown",
   "id": "66",
   "metadata": {},
   "source": []
  },
  {
   "cell_type": "markdown",
   "id": "67",
   "metadata": {},
   "source": [
    "3. Copy your player_update_save function from app.py to the cell below"
   ]
  },
  {
   "cell_type": "markdown",
   "id": "68",
   "metadata": {},
   "source": []
  },
  {
   "cell_type": "code",
   "execution_count": null,
   "id": "69",
   "metadata": {},
   "outputs": [],
   "source": []
  }
 ],
 "metadata": {
  "kernelspec": {
   "display_name": "Python 3 (ipykernel)",
   "language": "python",
   "name": "python3"
  },
  "language_info": {
   "codemirror_mode": {
    "name": "ipython",
    "version": 3
   },
   "file_extension": ".py",
   "mimetype": "text/x-python",
   "name": "python",
   "nbconvert_exporter": "python",
   "pygments_lexer": "ipython3",
   "version": "3.12.8"
  }
 },
 "nbformat": 4,
 "nbformat_minor": 5
}
