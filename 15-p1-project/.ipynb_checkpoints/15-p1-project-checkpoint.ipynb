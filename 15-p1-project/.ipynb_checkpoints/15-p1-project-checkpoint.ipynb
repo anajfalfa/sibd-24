{
 "cells": [
  {
   "cell_type": "markdown",
   "id": "0",
   "metadata": {},
   "source": [
    "# 15 P1 Project"
   ]
  },
  {
   "cell_type": "markdown",
   "id": "1",
   "metadata": {},
   "source": [
    "* ist1102903 Ana Alfaiate (33%)\n",
    "  \n",
    "* ist1102902 Maria Inês Trigueiro (33%)\n",
    "  \n",
    "* ist102881 Raquel Coelho (33%)"
   ]
  },
  {
   "cell_type": "markdown",
   "id": "2",
   "metadata": {},
   "source": [
    "Prof. Flávio Martins (and Prof. João Marques)\n",
    "\n",
    "Lab Shift number: PB03"
   ]
  },
  {
   "cell_type": "markdown",
   "id": "3",
   "metadata": {},
   "source": [
    "## PART I – E-R Model"
   ]
  },
  {
   "cell_type": "markdown",
   "id": "4",
   "metadata": {},
   "source": [
    "#### 1. Proposed database design\n",
    "\n",
    "An E-R model describing your proposed database design. Every design decision that can be captured in the E-R model should be represented in the diagram. Do not forget to include additional integrity constraints not captured in the E-R model. You may provide notes explaining the rationale behind non-trivial design decisions."
   ]
  },
  {
   "cell_type": "markdown",
   "id": "5",
   "metadata": {},
   "source": [
    "### E-R Model"
   ]
  },
  {
   "cell_type": "markdown",
   "id": "6",
   "metadata": {},
   "source": [
    "![E-R Model](15-p1-er-model.png \"E-R Model\")"
   ]
  },
  {
   "cell_type": "markdown",
   "id": "7",
   "metadata": {},
   "source": [
    "## PART II – Relational Model"
   ]
  },
  {
   "cell_type": "markdown",
   "id": "8",
   "metadata": {},
   "source": [
    "### Database Schema"
   ]
  },
  {
   "cell_type": "markdown",
   "id": "9",
   "metadata": {},
   "source": [
    "#### 1. Create the tables and integrity constraints corresponding to the relational database schema obtained.\n",
    "\n",
    "% Do not forget to include additional integrity constraints not captured in the relational model.\n",
    "\n",
    "%Please use database `db`, which should already have been created. If not, follow the instructions in Lab01 to create it."
   ]
  },
  {
   "cell_type": "code",
   "execution_count": 5,
   "id": "10",
   "metadata": {
    "tags": []
   },
   "outputs": [
    {
     "name": "stdout",
     "output_type": "stream",
     "text": [
      "Requirement already satisfied: sql in c:\\users\\anajf\\anaconda3\\lib\\site-packages (2022.4.0)\n",
      "Requirement already satisfied: ipython-sql in c:\\users\\anajf\\anaconda3\\lib\\site-packages (0.5.0)\n",
      "Requirement already satisfied: prettytable in c:\\users\\anajf\\anaconda3\\lib\\site-packages (from ipython-sql) (3.12.0)\n",
      "Requirement already satisfied: ipython in c:\\users\\anajf\\anaconda3\\lib\\site-packages (from ipython-sql) (8.20.0)\n",
      "Requirement already satisfied: sqlalchemy>=2.0 in c:\\users\\anajf\\anaconda3\\lib\\site-packages (from ipython-sql) (2.0.25)\n",
      "Requirement already satisfied: sqlparse in c:\\users\\anajf\\anaconda3\\lib\\site-packages (from ipython-sql) (0.5.2)\n",
      "Requirement already satisfied: six in c:\\users\\anajf\\anaconda3\\lib\\site-packages (from ipython-sql) (1.16.0)\n",
      "Requirement already satisfied: ipython-genutils in c:\\users\\anajf\\anaconda3\\lib\\site-packages (from ipython-sql) (0.2.0)\n",
      "Requirement already satisfied: typing-extensions>=4.6.0 in c:\\users\\anajf\\anaconda3\\lib\\site-packages (from sqlalchemy>=2.0->ipython-sql) (4.9.0)\n",
      "Requirement already satisfied: greenlet!=0.4.17 in c:\\users\\anajf\\anaconda3\\lib\\site-packages (from sqlalchemy>=2.0->ipython-sql) (3.0.1)\n",
      "Requirement already satisfied: decorator in c:\\users\\anajf\\anaconda3\\lib\\site-packages (from ipython->ipython-sql) (5.1.1)\n",
      "Requirement already satisfied: jedi>=0.16 in c:\\users\\anajf\\anaconda3\\lib\\site-packages (from ipython->ipython-sql) (0.18.1)\n",
      "Requirement already satisfied: matplotlib-inline in c:\\users\\anajf\\anaconda3\\lib\\site-packages (from ipython->ipython-sql) (0.1.6)\n",
      "Requirement already satisfied: prompt-toolkit<3.1.0,>=3.0.41 in c:\\users\\anajf\\anaconda3\\lib\\site-packages (from ipython->ipython-sql) (3.0.43)\n",
      "Requirement already satisfied: pygments>=2.4.0 in c:\\users\\anajf\\anaconda3\\lib\\site-packages (from ipython->ipython-sql) (2.15.1)\n",
      "Requirement already satisfied: stack-data in c:\\users\\anajf\\anaconda3\\lib\\site-packages (from ipython->ipython-sql) (0.2.0)\n",
      "Requirement already satisfied: traitlets>=5 in c:\\users\\anajf\\anaconda3\\lib\\site-packages (from ipython->ipython-sql) (5.7.1)\n",
      "Requirement already satisfied: colorama in c:\\users\\anajf\\anaconda3\\lib\\site-packages (from ipython->ipython-sql) (0.4.6)\n",
      "Requirement already satisfied: wcwidth in c:\\users\\anajf\\anaconda3\\lib\\site-packages (from prettytable->ipython-sql) (0.2.5)\n",
      "Requirement already satisfied: parso<0.9.0,>=0.8.0 in c:\\users\\anajf\\anaconda3\\lib\\site-packages (from jedi>=0.16->ipython->ipython-sql) (0.8.3)\n",
      "Requirement already satisfied: executing in c:\\users\\anajf\\anaconda3\\lib\\site-packages (from stack-data->ipython->ipython-sql) (0.8.3)\n",
      "Requirement already satisfied: asttokens in c:\\users\\anajf\\anaconda3\\lib\\site-packages (from stack-data->ipython->ipython-sql) (2.0.5)\n",
      "Requirement already satisfied: pure-eval in c:\\users\\anajf\\anaconda3\\lib\\site-packages (from stack-data->ipython->ipython-sql) (0.2.2)\n",
      "Requirement already satisfied: psycopg2 in c:\\users\\anajf\\anaconda3\\lib\\site-packages (2.9.10)\n",
      "The sql module is not an IPython extension.\n"
     ]
    },
    {
     "name": "stderr",
     "output_type": "stream",
     "text": [
      "UsageError: Line magic function `%%sql` not found.\n"
     ]
    }
   ],
   "source": [
    "!pip install sql\n",
    "!pip install ipython-sql\n",
    "!pip install psycopg2\n",
    "\n",
    "%load_ext sql\n",
    "%%sql postgresql+psycopg://db:db@postgres/db"
   ]
  },
  {
   "cell_type": "code",
   "execution_count": null,
   "id": "5efc5900",
   "metadata": {},
   "outputs": [],
   "source": [
    "% create db vetDB\n",
    "    \n",
    "%%sql\n",
    "CREATE USER vetDB WITH PASSWORD 'vetDB';\n",
    "\n",
    "\n",
    "CREATE DATABASE vetDB\n",
    "    WITH\n",
    "    OWNER = vetDB\n",
    "    ENCODING = 'UTF8'; \n",
    "\n",
    "GRANT ALL ON DATABASE vetDB TO vetDB; \n",
    "psql -h postgres -U vetDB"
   ]
  },
  {
   "cell_type": "code",
   "execution_count": null,
   "id": "11",
   "metadata": {},
   "outputs": [],
   "source": [
    "%%sql\n",
    "\n",
    "DROP TABLE IF EXISTS Procedure;\n",
    "\n",
    "DROP TABLE IF EXISTS Assistant;\n",
    "DROP TABLE IF EXISTS Prescription;\n",
    "\n",
    "DROP TABLE IF EXISTS Diagnostic;\n",
    "\n",
    "DROP TABLE IF EXISTS Veterinary_Visit;\n",
    "\n",
    "DROP TABLE IF EXISTS Client;\n",
    "DROP TABLE IF EXISTS Doctor;\n",
    "DROP TABLE IF EXISTS Animal;\n",
    "\n",
    "\n",
    "CREATE TABLE Client (\n",
    "    tin NUMERIC(9),\n",
    "    name VARCHAR(80),\n",
    "    line1 VARCHAR(255),\n",
    "    line2 VARCHAR(255),\n",
    "    postal_code VARCHAR(12),\n",
    "    city VARCHAR(30),\n",
    "    phone_nr VARCHAR(15),\n",
    "    PRIMARY KEY (tin),\n",
    "    UNIQUE (phone_nr)\n",
    ");\n",
    "\n",
    "CREATE TABLE Assistant (\n",
    "    name VARCHAR(80),\n",
    "    line1 VARCHAR(255),\n",
    "    line2 VARCHAR(255),\n",
    "    postal_code VARCHAR(12),\n",
    "    city VARCHAR(30),\n",
    "    phone_nr VARCHAR(15),\n",
    "    PRIMARY KEY (phone_nr),\n",
    ");\n",
    "\n",
    "CREATE TABLE Doctor (\n",
    "    omv NUMERIC(9),\n",
    "    name VARCHAR(80),\n",
    "    line1 VARCHAR(255),\n",
    "    line2 VARCHAR(255),\n",
    "    postal_code VARCHAR(12),\n",
    "    city VARCHAR(30),\n",
    "    phone_nr VARCHAR(15),\n",
    "    spclz VARCHAR (80),\n",
    "    biog TEXT,\n",
    "    PRIMARY KEY (omv),\n",
    "    UNIQUE (phone_nr)\n",
    ");\n",
    "\n",
    "CREATE TABLE Animal (\n",
    "    name VARCHAR(80),\n",
    "    owner VARCHAR(80),\n",
    "    birthdate DATE,\n",
    "    color VARCHAR(30),\n",
    "    gender VARCHAR(9),\n",
    "    weight_g ? -- in most recent measurement of weight in grams\n",
    "    PRIMARY KEY (name, owner), -- confirmar que está bem escrito\n",
    ");\n",
    "\n",
    "CREATE TABLE Cats_or_Dogs (\n",
    "    name VARCHAR(80),\n",
    "    owner VARCHAR(80),\n",
    "    breed VARCHAR(80),\n",
    "    PRIMARY KEY (name, owner), -- confirmar que está bem escrito\n",
    ");\n",
    "\n",
    "\n",
    "\n",
    "CREATE TABLE Other_Animals (\n",
    "    name VARCHAR(80),\n",
    "    owner VARCHAR(80),\n",
    "    spc VARCHAR(80),\n",
    "    PRIMARY KEY (name, owner), -- confirmar que está bem escrito\n",
    ");\n",
    "\n",
    "%%%%%%%%%%%%%%%%%%%%%%%%%%%%%%%%%%%%%%%%%%%%%%%%%%%%%%%%%%%%%%%%\n",
    "    text TEXT,\n",
    "    -- Every student must appear in the table 'registers'\n",
    "\n",
    "CREATE TABLE Instrument (\n",
    "    name VARCHAR(80),\n",
    "    tonality VARCHAR(30),\n",
    "    PRIMARY KEY (name)\n",
    ");\n",
    "\n",
    "CREATE TABLE plays (\n",
    "    idc INTEGER,\n",
    "    name VARCHAR(80),\n",
    "    PRIMARY KEY (idc, name),\n",
    "    FOREIGN KEY (idc) REFERENCES Musician(idc),\n",
    "    FOREIGN KEY (name) REFERENCES Instrument(name)\n",
    ");\n",
    "\n",
    "CREATE TABLE Album (\n",
    "    id VARCHAR(255),\n",
    "    title VARCHAR(255),\n",
    "    date DATE,\n",
    "    producer INTEGER,\n",
    "    PRIMARY KEY (id),\n",
    "    FOREIGN KEY (producer) REFERENCES Musician(idc)\n",
    ");\n",
    "\n",
    "CREATE TABLE Music (\n",
    "    id VARCHAR(255),\n",
    "    title VARCHAR(255),\n",
    "    author VARCHAR(80),\n",
    "    PRIMARY KEY (id, title, author),\n",
    "    FOREIGN KEY (id) REFERENCES Album(id)\n",
    "    -- Every music must appear in the table 'participates'\n",
    ");\n",
    "\n",
    "CREATE TABLE participates (\n",
    "    idc INTEGER,\n",
    "    id VARCHAR(255),\n",
    "    title VARCHAR(255),\n",
    "    author VARCHAR(80),\n",
    "    PRIMARY KEY (idc, id, title, author),\n",
    "    FOREIGN KEY (idc) REFERENCES Musician(idc),\n",
    "    FOREIGN KEY (id, title, author) REFERENCES Music(id, title, author)\n",
    ");"
   ]
  }
 ],
 "metadata": {
  "kernelspec": {
   "display_name": "Python 3 (ipykernel)",
   "language": "python",
   "name": "python3"
  },
  "language_info": {
   "codemirror_mode": {
    "name": "ipython",
    "version": 3
   },
   "file_extension": ".py",
   "mimetype": "text/x-python",
   "name": "python",
   "nbconvert_exporter": "python",
   "pygments_lexer": "ipython3",
   "version": "3.11.7"
  }
 },
 "nbformat": 4,
 "nbformat_minor": 5
}
